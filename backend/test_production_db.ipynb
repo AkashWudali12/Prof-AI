{
 "cells": [
  {
   "cell_type": "code",
   "execution_count": 6,
   "metadata": {},
   "outputs": [
    {
     "name": "stdout",
     "output_type": "stream",
     "text": [
      "Your instance connection name is: prof-ai-3b2ad:us-central1:prof-ai-database\n"
     ]
    }
   ],
   "source": [
    "INSTANCE_CONNECTION_NAME = \"prof-ai-3b2ad:us-central1:prof-ai-database\"\n",
    "print(f\"Your instance connection name is: {INSTANCE_CONNECTION_NAME}\")\n",
    "DB_USER = \"postgres\"\n",
    "DB_PASS = \"FallColorsRPrett1\"\n",
    "DB_NAME = \"postgres\""
   ]
  },
  {
   "cell_type": "code",
   "execution_count": 1,
   "metadata": {
    "vscode": {
     "languageId": "powershell"
    }
   },
   "outputs": [
    {
     "name": "stdout",
     "output_type": "stream",
     "text": [
      "Welcome! This command will take you through the configuration of gcloud.\n",
      "\n",
      "Settings from your current configuration [default] are:\n",
      "core:\n",
      "  account: akash.wudali@gmail.com\n",
      "  disable_usage_reporting: 'True'\n",
      "  project: prof-ai-3b2ad\n",
      "\n",
      "Pick configuration to use:\n",
      " [1] Re-initialize this configuration [default] with new settings \n",
      " [2] Create a new configuration\n",
      "Please enter your numeric choice:  ^C\n",
      "\n",
      "\n",
      "Command killed by keyboard interrupt\n",
      "\n",
      "Your browser has been opened to visit:\n",
      "\n",
      "    https://accounts.google.com/o/oauth2/auth?response_type=code&client_id=764086051850-6qr4p6gpi6hn506pt8ejuq83di341hur.apps.googleusercontent.com&redirect_uri=http%3A%2F%2Flocalhost%3A8085%2F&scope=openid+https%3A%2F%2Fwww.googleapis.com%2Fauth%2Fuserinfo.email+https%3A%2F%2Fwww.googleapis.com%2Fauth%2Fcloud-platform+https%3A%2F%2Fwww.googleapis.com%2Fauth%2Fsqlservice.login&state=NCQXY7D0fxlcicfHI0GUHVAbH5txMP&access_type=offline&code_challenge=JqRs9USC_0jJVgbDttgDlJI5uux7_SBq3Bil93d7Yg0&code_challenge_method=S256\n",
      "\n",
      "\n",
      "Credentials saved to file: [/Users/akashwudali/.config/gcloud/application_default_credentials.json]\n",
      "\n",
      "These credentials will be used by any library that requests Application Default Credentials (ADC).\n",
      "\n",
      "Quota project \"prof-ai-3b2ad\" was added to ADC which can be used by Google client libraries for billing and quota. Note that some services may still bill the project owning the resource.\n"
     ]
    }
   ],
   "source": [
    "!gcloud init\n",
    "!gcloud auth application-default login"
   ]
  },
  {
   "cell_type": "code",
   "execution_count": 7,
   "metadata": {},
   "outputs": [],
   "source": [
    "from google.cloud.sql.connector import Connector\n",
    "import sqlalchemy"
   ]
  },
  {
   "cell_type": "code",
   "execution_count": 8,
   "metadata": {},
   "outputs": [],
   "source": [
    "# initialize Connector object\n",
    "connector = Connector()\n",
    "\n",
    "# function to return the database connection object\n",
    "def getconn():\n",
    "    conn = connector.connect(\n",
    "        INSTANCE_CONNECTION_NAME,\n",
    "        \"pg8000\",\n",
    "        user=DB_USER,\n",
    "        password=DB_PASS,\n",
    "        db=DB_NAME\n",
    "    )\n",
    "    return conn\n",
    "\n",
    "# create connection pool with 'creator' argument to our connection object function\n",
    "pool = sqlalchemy.create_engine(\n",
    "    \"postgresql+pg8000://\",\n",
    "    creator=getconn,\n",
    ")"
   ]
  },
  {
   "cell_type": "code",
   "execution_count": 19,
   "metadata": {},
   "outputs": [
    {
     "name": "stdout",
     "output_type": "stream",
     "text": [
      "‪Linearized model Fokker–Planck collision operators for gyrokinetic simulations. I. Theory‬:\n",
      "A new analytically and numerically manageable model collision operator is developed specifically for turbulence simulations. The like-particle collision operator includes both pitch-angle scattering and energy diffusion and satisfies the physical constraints required for collision operators: it conserves particles, momentum, and energy, obeys Boltzmann’s H-theorem (collisions cannot decrease entropy), vanishes on a Maxwellian, and efficiently dissipates small-scale structure in the velocity space. The process of transforming this collision operator into the gyroaveraged form for use in gyrokinetic simulations is detailed. The gyroaveraged model operator is shown to have more suitable behavior at small scales in phase space than previously suggested models. Model operators for electron-ion and ion-electron collisions are also presented.\n",
      "‪Linearized model Fokker–Planck collision operators for gyrokinetic simulations. I. Theory‬:\n",
      "A new analytically and numerically manageable model collision operator is developed specifically for turbulence simulations. The like-particle collision operator includes both pitch-angle scattering and energy diffusion and satisfies the physical constraints required for collision operators: it conserves particles, momentum, and energy, obeys Boltzmann’s H-theorem (collisions cannot decrease entropy), vanishes on a Maxwellian, and efficiently dissipates small-scale structure in the velocity space. The process of transforming this collision operator into the gyroaveraged form for use in gyrokinetic simulations is detailed. The gyroaveraged model operator is shown to have more suitable behavior at small scales in phase space than previously suggested models. Model operators for electron-ion and ion-electron collisions are also presented.\n",
      "‪Multiscale gyrokinetics for rotating tokamak plasmas: fluctuations, transport and energy flows‬:\n",
      "This paper presents a complete theoretical framework for studying turbulence and transport in rapidly rotating tokamak plasmas. The fundamental scale separations present in plasma turbulence are codified as an asymptotic expansion in the ratio epsilon= ρ i/a of the gyroradius to the equilibrium scale length. Proceeding order by order in this expansion, a set of coupled multiscale equations is developed. They describe an instantaneous equilibrium, the fluctuations driven by gradients in the equilibrium quantities, and the transport-timescale evolution of mean profiles of these quantities driven by the interplay between the equilibrium and the fluctuations. The equilibrium distribution functions are local Maxwellians with each flux surface rotating toroidally as a rigid body. The magnetic equilibrium is obtained from the generalized Grad–Shafranov equation for a rotating plasma, determining the magnetic flux function …\n",
      "‪Multiscale gyrokinetics for rotating tokamak plasmas: fluctuations, transport and energy flows‬:\n",
      "This paper presents a complete theoretical framework for studying turbulence and transport in rapidly rotating tokamak plasmas. The fundamental scale separations present in plasma turbulence are codified as an asymptotic expansion in the ratio epsilon= ρ i/a of the gyroradius to the equilibrium scale length. Proceeding order by order in this expansion, a set of coupled multiscale equations is developed. They describe an instantaneous equilibrium, the fluctuations driven by gradients in the equilibrium quantities, and the transport-timescale evolution of mean profiles of these quantities driven by the interplay between the equilibrium and the fluctuations. The equilibrium distribution functions are local Maxwellians with each flux surface rotating toroidally as a rigid body. The magnetic equilibrium is obtained from the generalized Grad–Shafranov equation for a rotating plasma, determining the magnetic flux function …\n",
      "‪Direct multiscale coupling of a transport code to gyrokinetic turbulence codes‬:\n",
      "Direct coupling between a transport solver and local, nonlinear gyrokinetic calculations using the multiscale gyrokinetic code TRINITY [M. Barnes,“TRINITY: A unified treatment of turbulence, transport, and heating in magnetized plasmas,” Ph. D. thesis,\n",
      "‪Direct multiscale coupling of a transport code to gyrokinetic turbulence codes‬:\n",
      "Direct coupling between a transport solver and local, nonlinear gyrokinetic calculations using the multiscale gyrokinetic code TRINITY [M. Barnes,“TRINITY: A unified treatment of turbulence, transport, and heating in magnetized plasmas,” Ph. D. thesis,\n",
      "‪Gyrokinetic simulations of spherical tokamaks‬:\n",
      "This paper reviews transport and confinement in spherical tokamaks (STs) and our current physics understanding of this that is partly based on gyrokinetic simulations. Equilibrium flow shear plays an important role, and we show how this is consistently included in the gyrokinetic framework for flows that greatly exceed the diamagnetic velocity. The key geometry factors that influence the effectiveness of turbulence suppression by flow shear are discussed, and we show that toroidal equilibrium flow shear can sometimes entirely suppress ion scale turbulence in today's STs. Advanced nonlinear simulations of electron temperature gradient (ETG) driven turbulence, including kinetic ion physics, collisions and equilibrium flow shear, support the model that ETG turbulence can explain electron heat transport in many ST discharges.\n",
      "‪Gyrokinetic simulations of spherical tokamaks‬:\n",
      "This paper reviews transport and confinement in spherical tokamaks (STs) and our current physics understanding of this that is partly based on gyrokinetic simulations. Equilibrium flow shear plays an important role, and we show how this is consistently included in the gyrokinetic framework for flows that greatly exceed the diamagnetic velocity. The key geometry factors that influence the effectiveness of turbulence suppression by flow shear are discussed, and we show that toroidal equilibrium flow shear can sometimes entirely suppress ion scale turbulence in today's STs. Advanced nonlinear simulations of electron temperature gradient (ETG) driven turbulence, including kinetic ion physics, collisions and equilibrium flow shear, support the model that ETG turbulence can explain electron heat transport in many ST discharges.\n",
      "‪Linearized model Fokker–Planck collision operators for gyrokinetic simulations. II. Numerical implementation and tests‬:\n",
      "A set of key properties for an ideal dissipation scheme in gyrokinetic simulations is proposed, and implementation of a model collision operator satisfying these properties is described. This operator is based on the exact linearized test-particle collision operator, with approximations to the field-particle terms that preserve conservation laws and an H-theorem. It includes energy diffusion, pitch-angle scattering, and finite Larmor radius effects corresponding to classical (real-space) diffusion. The numerical implementation in the continuum gyrokinetic code GS2 [Kotschenreuther et al, Comput. Phys. Comm. 88, 128 (1995)] is fully implicit and guarantees exact satisfaction of conservation properties. Numerical results are presented showing that the correct physics is captured over the entire range of collisionalities, from the collisionless to the strongly collisional regimes, without recourse to artificial dissipation.\n",
      "‪Linearized model Fokker–Planck collision operators for gyrokinetic simulations. II. Numerical implementation and tests‬:\n",
      "A set of key properties for an ideal dissipation scheme in gyrokinetic simulations is proposed, and implementation of a model collision operator satisfying these properties is described. This operator is based on the exact linearized test-particle collision operator, with approximations to the field-particle terms that preserve conservation laws and an H-theorem. It includes energy diffusion, pitch-angle scattering, and finite Larmor radius effects corresponding to classical (real-space) diffusion. The numerical implementation in the continuum gyrokinetic code GS2 [Kotschenreuther et al, Comput. Phys. Comm. 88, 128 (1995)] is fully implicit and guarantees exact satisfaction of conservation properties. Numerical results are presented showing that the correct physics is captured over the entire range of collisionalities, from the collisionless to the strongly collisional regimes, without recourse to artificial dissipation.\n",
      "‪Inertial-range kinetic turbulence in pressure-anisotropic astrophysical plasmas‬:\n",
      "A theoretical framework for low-frequency electromagnetic (drift-)kinetic turbulence in a collisionless, multi-species plasma is presented. The result generalises reduced magnetohydrodynamics (RMHD) and kinetic RMHD (Schekochihin et al., Astrophys. J. Suppl. Ser., vol. 182, 2009, pp. 310–377) to the case where the mean distribution function of the plasma is pressure-anisotropic and different ion species are allowed to drift with respect to each other – a situation routinely encountered in the solar wind and presumably ubiquitous in hot dilute astrophysical plasmas such as the intracluster medium. Two main objectives are achieved. First, in a non-Maxwellian plasma, the relationships between fluctuating fields (e.g. the Alfvén ratio) are order-unity modified compared to the more commonly considered Maxwellian case, and so a quantitative theory is developed to support quantitative measurements now possible in …\n",
      "‪Astrophysical gyrokinetics: turbulence in pressure-anisotropic plasmas at ion scales and beyond‬:\n",
      "We present a theoretical framework for describing electromagnetic kinetic turbulence in a multi-species, magnetized, pressure-anisotropic plasma. The turbulent fluctuations are assumed to be small compared to the mean field, to be spatially anisotropic with respect to it and to have frequencies small compared to the ion cyclotron frequency. At scales above the ion-Larmor radius, the theory reduces to the pressure-anisotropic generalization of kinetic reduced magnetohydrodynamics (KRMHD) formulated by Kunz et al. (J. Plasma Phys., vol. 81, 2015, 325810501). At scales at and below the ion-Larmor radius, three main objectives are achieved. First, we analyse the linear response of the pressure-anisotropic gyrokinetic system, and show it to be a generalization of previously explored limits. The effects of pressure anisotropy on the stability and collisionless damping of Alfvénic and compressive fluctuations are …\n",
      "‪Experimental signatures of critically balanced turbulence in MAST‬:\n",
      "Beam emission spectroscopy (BES) measurements of ion-scale density fluctuations in the MAST tokamak are used to show that the turbulence correlation time, the drift time associated with ion temperature or density gradients, the particle (ion) streaming time along the magnetic field, and the magnetic drift time are consistently comparable, suggesting a “critically balanced” turbulence determined by the local equilibrium. The resulting scalings of the poloidal and radial correlation lengths are derived and tested. The nonlinear time inferred from the density fluctuations is longer than the other times; its ratio to the correlation time scales as , where . This is consistent with turbulent decorrelation being controlled by a zonal component, invisible to the BES, with an amplitude exceeding those of the drift waves by .\n",
      "‪Experimental signatures of critically balanced turbulence in MAST‬:\n",
      "Beam emission spectroscopy (BES) measurements of ion-scale density fluctuations in the MAST tokamak are used to show that the turbulence correlation time, the drift time associated with ion temperature or density gradients, the particle (ion) streaming time along the magnetic field, and the magnetic drift time are consistently comparable, suggesting a “critically balanced” turbulence determined by the local equilibrium. The resulting scalings of the poloidal and radial correlation lengths are derived and tested. The nonlinear time inferred from the density fluctuations is longer than the other times; its ratio to the correlation time scales as , where . This is consistent with turbulent decorrelation being controlled by a zonal component, invisible to the BES, with an amplitude exceeding those of the drift waves by .\n",
      "‪Overview of physics results from MAST towards ITER/DEMO and the MAST Upgrade‬:\n",
      "New diagnostic, modelling and plant capability on the Mega Ampère Spherical Tokamak (MAST) have delivered important results in key areas for ITER/DEMO and the upcoming MAST Upgrade, a step towards future ST devices on the path to fusion currently under procurement. Micro-stability analysis of the pedestal highlights the potential roles of micro-tearing modes and kinetic ballooning modes for the pedestal formation. Mitigation of edge localized modes (ELM) using resonant magnetic perturbation has been demonstrated for toroidal mode numbers n= 3, 4, 6 with an ELM frequency increase by up to a factor of 9, compatible with pellet fuelling. The peak heat flux of mitigated and natural ELMs follows the same linear trend with ELM energy loss and the first ELM-resolved T i measurements in the divertor region are shown. Measurements of flow shear and turbulence dynamics during L–H transitions show …\n",
      "‪Overview of physics results from MAST towards ITER/DEMO and the MAST Upgrade‬:\n",
      "New diagnostic, modelling and plant capability on the Mega Ampère Spherical Tokamak (MAST) have delivered important results in key areas for ITER/DEMO and the upcoming MAST Upgrade, a step towards future ST devices on the path to fusion currently under procurement. Micro-stability analysis of the pedestal highlights the potential roles of micro-tearing modes and kinetic ballooning modes for the pedestal formation. Mitigation of edge localized modes (ELM) using resonant magnetic perturbation has been demonstrated for toroidal mode numbers n= 3, 4, 6 with an ELM frequency increase by up to a factor of 9, compatible with pellet fuelling. The peak heat flux of mitigated and natural ELMs follows the same linear trend with ELM energy loss and the first ELM-resolved T i measurements in the divertor region are shown. Measurements of flow shear and turbulence dynamics during L–H transitions show …\n",
      "‪First principles of modelling the stabilization of microturbulence by fast ions‬:\n",
      "The observation that fast ions stabilize ion-temperature-gradient-driven microturbulence has profound implications for future fusion reactors. It is also important in optimizing the performance of present-day devices. In this work, we examine in detail the phenomenology of fast ion stabilization and present a reduced model which describes this effect. This model is derived from the high-energy limit of the gyrokinetic equation and extends the existing'dilution'model to account for nontrivial fast ion kinetics. Our model provides a physically-transparent explanation for the observed stabilization and makes several key qualitative predictions. Firstly, that different classes of fast ions, depending on their radial density or temperature variation, have different stabilizing properties. Secondly, that zonal flows are an important ingredient in this effect precisely because the fast ion zonal response is negligible. Finally, that in the limit …\n",
      "‪First principles of modelling the stabilization of microturbulence by fast ions‬:\n",
      "The observation that fast ions stabilize ion-temperature-gradient-driven microturbulence has profound implications for future fusion reactors. It is also important in optimizing the performance of present-day devices. In this work, we examine in detail the phenomenology of fast ion stabilization and present a reduced model which describes this effect. This model is derived from the high-energy limit of the gyrokinetic equation and extends the existing'dilution'model to account for nontrivial fast ion kinetics. Our model provides a physically-transparent explanation for the observed stabilization and makes several key qualitative predictions. Firstly, that different classes of fast ions, depending on their radial density or temperature variation, have different stabilizing properties. Secondly, that zonal flows are an important ingredient in this effect precisely because the fast ion zonal response is negligible. Finally, that in the limit …\n",
      "‪Multiscale gyrokinetics for rotating tokamak plasmas: II. Reduced models for electron dynamics‬:\n",
      "In this paper, we extend the multiscale approach developed in Abel et al (2012 Rep. Prog. Phys. submitted) by exploiting the scale separation between ions and the electrons. The gyrokinetic equation is expanded in powers of the electron to ion mass ratio, which provides a rigorous method for deriving the reduced electron model. We prove that ion-scale electromagnetic turbulence cannot change the magnetic topology, and argue that to lowest order the magnetic field lies on fluctuating flux surfaces. These flux surfaces are used to construct magnetic coordinates, and in these coordinates a closed system of equations for the electron response to ion-scale turbulence is derived. All fast electron timescales have been eliminated from these equations. We also use these magnetic surfaces to construct transport equations for electrons and for electron heat in terms of the reduced electron model.\n",
      "‪Multiscale gyrokinetics for rotating tokamak plasmas: II. Reduced models for electron dynamics‬:\n",
      "In this paper, we extend the multiscale approach developed in Abel et al (2012 Rep. Prog. Phys. submitted) by exploiting the scale separation between ions and the electrons. The gyrokinetic equation is expanded in powers of the electron to ion mass ratio, which provides a rigorous method for deriving the reduced electron model. We prove that ion-scale electromagnetic turbulence cannot change the magnetic topology, and argue that to lowest order the magnetic field lies on fluctuating flux surfaces. These flux surfaces are used to construct magnetic coordinates, and in these coordinates a closed system of equations for the electron response to ion-scale turbulence is derived. All fast electron timescales have been eliminated from these equations. We also use these magnetic surfaces to construct transport equations for electrons and for electron heat in terms of the reduced electron model.\n",
      "‪Validating modeling assumptions of alpha particles in electrostatic turbulence‬:\n",
      "To rigorously model fast ions in fusion plasmas, a non-Maxwellian equilibrium distribution must be used. In this work, the response of high-energy alpha particles to electrostatic turbulence has been analyzed for several different tokamak parameters. Our results are consistent with known scalings and experimental evidence that alpha particles are generally well confined: on the order of several seconds. It is also confirmed that the effect of alphas on the turbulence is negligible at realistically low concentrations, consistent with linear theory. It is demonstrated that the usual practice of using a high-temperature Maxwellian, while previously shown to give an adequate order-of-magnitude estimate of the diffusion coefficient, gives incorrect estimates for the radial alpha particle flux, and a method of correcting it in general is provided. Furthermore, we see that the timescales associated with collisions and transport compete …\n",
      "‪Overview of JET results‬:\n",
      "Since the last IAEA Conference JET has been in operation for one year with a programmatic focus on the qualification of ITER operating scenarios, the consolidation of ITER design choices and preparation for plasma operation with the ITER-like wall presently being installed in JET. Good progress has been achieved, including stationary ELMy H-mode operation at 4.5 MA. The high confinement hybrid scenario has been extended to high triangularity, lower ρ* and to pulse lengths comparable to the resistive time. The steady-state scenario has also been extended to lower ρ* and ν* and optimized to simultaneously achieve, under stationary conditions, ITER-like values of all other relevant normalized parameters. A dedicated helium campaign has allowed key aspects of plasma control and H-mode operation for the ITER non-activated phase to be evaluated. Effective sawtooth control by fast ions has been …\n",
      "‪Overview of JET results‬:\n",
      "Since the last IAEA Conference JET has been in operation for one year with a programmatic focus on the qualification of ITER operating scenarios, the consolidation of ITER design choices and preparation for plasma operation with the ITER-like wall presently being installed in JET. Good progress has been achieved, including stationary ELMy H-mode operation at 4.5 MA. The high confinement hybrid scenario has been extended to high triangularity, lower ρ* and to pulse lengths comparable to the resistive time. The steady-state scenario has also been extended to lower ρ* and ν* and optimized to simultaneously achieve, under stationary conditions, ITER-like values of all other relevant normalized parameters. A dedicated helium campaign has allowed key aspects of plasma control and H-mode operation for the ITER non-activated phase to be evaluated. Effective sawtooth control by fast ions has been …\n",
      "‪Resonant excitation of shear Alfvén perturbations by trapped energetic ions in a tokamak‬:\n",
      "A new analytic expression is derived for the resonant drive of high n Alfvénic modes by particles accelerated to high energy by ion cyclotron resonance heating. This derivation includes finite orbit effects, and the formalism is completely nonperturbative. The high-n limit is used to calculate the complex particle response integrals along the orbits explicitly. This new theory is applied to downward sweeping Alfvén cascade quasimodes completing the theory of these modes and making testable predictions. These predictions are found to be consistent with experiments carried out on the Joint European Torus [PH Rebut and BE Keen, Fusion Technol. 11, 13 (1987)].\n",
      "‪Resonant excitation of shear Alfvén perturbations by trapped energetic ions in a tokamak‬:\n",
      "A new analytic expression is derived for the resonant drive of high n Alfvénic modes by particles accelerated to high energy by ion cyclotron resonance heating. This derivation includes finite orbit effects, and the formalism is completely nonperturbative. The high-n limit is used to calculate the complex particle response integrals along the orbits explicitly. This new theory is applied to downward sweeping Alfvén cascade quasimodes completing the theory of these modes and making testable predictions. These predictions are found to be consistent with experiments carried out on the Joint European Torus [PH Rebut and BE Keen, Fusion Technol. 11, 13 (1987)].\n",
      "‪An adjoint method for neoclassical stellarator optimization‬:\n",
      "Stellarators are a promising route to steady-state fusion power. However, to achieve the required confinement, the magnetic geometry must be highly optimized. This optimization requires navigating high-dimensional spaces, often necessitating the use of gradient-based methods. The gradient of the neoclassical fluxes is expensive to compute with classical methods, requiring ), this adjoint method provides up to a factor of 200 reduction in cost. We demonstrate adjoint-based optimization of the field strength to obtain minimal bootstrap current on a surface. With adjoint-based derivatives, we also compute the local sensitivity to magnetic perturbations on a flux surface and identify regions where tight tolerances on error fields are required for control of the bootstrap current or radial transport. Furthermore, the solve for the ambipolar electric field is accelerated using a Newton method with derivatives obtained from the …\n",
      "‪GX: a GPU-native gyrokinetic turbulence code for tokamak and stellarator design‬:\n",
      "GX is a code for solving the nonlinear gyrokinetic system for low-frequency turbulence in magnetized plasmas, particularly tokamaks and stellarators. In GX, our primary motivation and target is fusion reactor design, rather than physics exploration or comprehensive validation studies. This has led to several code and algorithm design decisions, specifically chosen to prioritize time to solution. First, we have used a discretization algorithm that is pseudo-spectral in the entire phase-space, including a Laguerre-Hermite pseudo-spectral formulation of velocity space, which allows for smooth interpolation between coarse gyrofluid-like resolutions and finer conventional gyrokinetic resolutions. Additionally, we have built GX to natively target graphics processors (GPUs), which are the fastest computational platforms available today. Finally, we have taken advantage of the reactor-relevant limit of small by using the radially-local flux-tube approach. In this paper we present details about the gyrokinetic system and the numerical algorithms used to solve it in GX. We then present several numerical benchmarks against established gyrokinetic codes in both tokamak and stellarator magnetic geometries to verify that GX correctly simulates gyrokinetic turbulence in the small limit. Moreover, we show that the convergence properties of the Laguerre-Hermite spectral velocity formulation are quite favorable for nonlinear problems of interest. Coupled with GPU acceleration, which we also investigate with scaling studies, this enables GX to be able to produce useful turbulence simulations in minutes on one (or a few) GPUs. GX is open-source software that is …\n",
      "‪Transport and deceleration of fusion products in microturbulence‬:\n",
      "The velocity-space distribution of alpha particles born in fusion devices is subject to modification at moderate energies due to turbulent transport. Therefore, one must calculate the evolution of an equilibrium distribution whose functional form is not known a priori. Using a novel technique, applicable to any trace impurity, we have made this calculation for fully nonlinear gyrokinetic simulations not only possible but also particularly efficient. We demonstrate a microturbulence-induced departure from the local slowing-down distribution, an inversion of the energy distribution, and associated modifications to the alpha heating and pressure profiles in an ITER-like scenario.\n",
      "‪Transport and deceleration of fusion products in microturbulence‬:\n",
      "The velocity-space distribution of alpha particles born in fusion devices is subject to modification at moderate energies due to turbulent transport. Therefore, one must calculate the evolution of an equilibrium distribution whose functional form is not known a priori. Using a novel technique, applicable to any trace impurity, we have made this calculation for fully nonlinear gyrokinetic simulations not only possible but also particularly efficient. We demonstrate a microturbulence-induced departure from the local slowing-down distribution, an inversion of the energy distribution, and associated modifications to the alpha heating and pressure profiles in an ITER-like scenario.\n",
      "‪Three-dimensional inhomogeneity of electron-temperature-gradient turbulence in the edge of tokamak plasmas‬:\n",
      "Nonlinear multiscale gyrokinetic simulations of a Joint European Torus edge pedestal are used to show that electron-temperature-gradient (ETG) turbulence has a rich three-dimensional structure, varying strongly according to the local magnetic-field configuration. In the plane normal to the magnetic field, the steep pedestal electron temperature gradient gives rise to anisotropic turbulence with a radial (normal) wavelength much shorter than in the binormal direction. In the parallel direction, the location and parallel extent of the turbulence are determined by the variation in the magnetic drifts and finite-Larmor-radius (FLR) effects. The magnetic drift and FLR topographies have a perpendicular-wavelength dependence, which permits turbulence intensity maxima near the flux-surface top and bottom at longer binormal scales, but constrains turbulence to the outboard midplane at shorter electron-gyroradius binormal …\n",
      "‪Three-dimensional inhomogeneity of electron-temperature-gradient turbulence in the edge of tokamak plasmas‬:\n",
      "Nonlinear multiscale gyrokinetic simulations of a Joint European Torus edge pedestal are used to show that electron-temperature-gradient (ETG) turbulence has a rich three-dimensional structure, varying strongly according to the local magnetic-field configuration. In the plane normal to the magnetic field, the steep pedestal electron temperature gradient gives rise to anisotropic turbulence with a radial (normal) wavelength much shorter than in the binormal direction. In the parallel direction, the location and parallel extent of the turbulence are determined by the variation in the magnetic drifts and finite-Larmor-radius (FLR) effects. The magnetic drift and FLR topographies have a perpendicular-wavelength dependence, which permits turbulence intensity maxima near the flux-surface top and bottom at longer binormal scales, but constrains turbulence to the outboard midplane at shorter electron-gyroradius binormal …\n",
      "‪Global anomalous transport of ICRH-and NBI-heated fast ions‬:\n",
      "By taking advantage of the trace approximation, one can gain an enormous computational advantage when solving for the global turbulent transport of impurities. In particular, this makes feasible the study of non-Maxwellian transport coupled in radius and energy, allowing collisions and transport to be accounted for on similar time scales, as occurs for fast ions. In this work, we study the fully-nonlinear ITG-driven trace turbulent transport of locally heated and injected fast ions. Previous results indicated the existence of MeV-range minorities heated by cyclotron resonance, and an associated density pinch effect. Here, we build upon this result using the t3core code to solve for the distribution of these minorities, consistently including the effects of collisions, gyrokinetic turbulence, and heating. Using the same tool to study the transport of injected fast ions, we contrast the qualitative features of their transport with that of …\n",
      "‪Global anomalous transport of ICRH-and NBI-heated fast ions‬:\n",
      "By taking advantage of the trace approximation, one can gain an enormous computational advantage when solving for the global turbulent transport of impurities. In particular, this makes feasible the study of non-Maxwellian transport coupled in radius and energy, allowing collisions and transport to be accounted for on similar time scales, as occurs for fast ions. In this work, we study the fully-nonlinear ITG-driven trace turbulent transport of locally heated and injected fast ions. Previous results indicated the existence of MeV-range minorities heated by cyclotron resonance, and an associated density pinch effect. Here, we build upon this result using the t3core code to solve for the distribution of these minorities, consistently including the effects of collisions, gyrokinetic turbulence, and heating. Using the same tool to study the transport of injected fast ions, we contrast the qualitative features of their transport with that of …\n",
      "‪Multiscale modelling for tokamak pedestals‬:\n",
      "Pedestal modelling is crucial to predict the performance of future fusion devices. Current modelling efforts suffer either from a lack of kinetic physics, or an excess of computational complexity. To ameliorate these problems, we take a first-principles multiscale approach to the pedestal. We will present three separate sets of equations, covering the dynamics of edge localised modes (ELMs), the inter-ELM pedestal and pedestal turbulence, respectively. Precisely how these equations should be coupled to each other is covered in detail. This framework is completely self-consistent; it is derived from first principles by means of an asymptotic expansion of the fundamental Vlasov–Landau–Maxwell system in appropriate small parameters. The derivation exploits the narrowness of the pedestal region, the smallness of the thermal gyroradius and the low plasma (the ratio of thermal to magnetic pressures) typical of current …\n"
     ]
    }
   ],
   "source": [
    "from pprint import pprint\n",
    "\n",
    "select_query = sqlalchemy.text(\"\"\"\n",
    "    SELECT abstract_list \n",
    "    FROM abstracts \n",
    "    WHERE professor_id = :professor_id\n",
    "\"\"\")\n",
    "\n",
    "with pool.connect() as db_conn:\n",
    "  # create ratings table in our sandwiches database\n",
    "  result = db_conn.execute(select_query, {\"professor_id\": \"961226808768691\"})\n",
    "\n",
    "  # commit transaction (SQLAlchemy v2.X.X is commit as you go)\n",
    "  db_conn.commit()\n",
    "\n",
    "abstracts = result.fetchall()\n",
    "\n",
    "for i in abstracts[0][0]:\n",
    "  print(i)"
   ]
  },
  {
   "cell_type": "code",
   "execution_count": null,
   "metadata": {},
   "outputs": [],
   "source": []
  }
 ],
 "metadata": {
  "kernelspec": {
   "display_name": "prof_ai_venv",
   "language": "python",
   "name": "python3"
  },
  "language_info": {
   "codemirror_mode": {
    "name": "ipython",
    "version": 3
   },
   "file_extension": ".py",
   "mimetype": "text/x-python",
   "name": "python",
   "nbconvert_exporter": "python",
   "pygments_lexer": "ipython3",
   "version": "3.11.9"
  }
 },
 "nbformat": 4,
 "nbformat_minor": 2
}
